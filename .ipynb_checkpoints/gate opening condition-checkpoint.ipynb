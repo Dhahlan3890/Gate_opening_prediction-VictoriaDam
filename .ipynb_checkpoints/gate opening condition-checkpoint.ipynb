{
 "cells": [
  {
   "cell_type": "code",
   "execution_count": null,
   "id": "21e1ead6-907d-4a9e-8549-fb1dfa4d21dd",
   "metadata": {},
   "outputs": [],
   "source": [
    "import tkinter as tk\n",
    "from tkinter import ttk\n",
    "from tkinter import messagebox\n",
    "import numpy as np\n",
    "from sklearn.ensemble import RandomForestClassifier\n",
    "from sklearn.model_selection import train_test_split\n",
    "from sklearn.metrics import accuracy_score, classification_report\n",
    "import pickle"
   ]
  },
  {
   "cell_type": "code",
   "execution_count": null,
   "id": "b25ad7f7-1021-4721-a475-662b220b5636",
   "metadata": {},
   "outputs": [],
   "source": [
    "data = pickle.load(open('preprocessed_data.pickle',mode='rb'))"
   ]
  },
  {
   "cell_type": "code",
   "execution_count": null,
   "id": "da90d53c-230c-4ed5-b80b-772a3a8c5d47",
   "metadata": {},
   "outputs": [],
   "source": [
    "def month_year(x, y):\n",
    "    result_array = np.array([[str(i), x, y] for i in range(1, 31)])\n",
    "    result_array_reshaped = result_array.reshape(-1, 3)\n",
    "    return result_array_reshaped"
   ]
  },
  {
   "cell_type": "code",
   "execution_count": null,
   "id": "b494de99-b075-44ae-a4cf-741d468ac888",
   "metadata": {},
   "outputs": [],
   "source": [
    "X = data[['Day', 'Month', 'Year']]\n",
    "y = data['Cluster']\n",
    "X_train, X_test, y_train, y_test = train_test_split(X, y, test_size=0.2)\n",
    "clf = RandomForestClassifier(n_estimators=100, random_state=42)\n",
    "clf.fit(X_train, y_train)"
   ]
  },
  {
   "cell_type": "code",
   "execution_count": null,
   "id": "04ed4fa0-19d2-4f14-8e61-8b1d2c6ecf8e",
   "metadata": {},
   "outputs": [],
   "source": [
    "y_pred = clf.predict(X_test)"
   ]
  },
  {
   "cell_type": "code",
   "execution_count": null,
   "id": "bf3cd2b5-459e-440c-90f8-35115d031d3c",
   "metadata": {},
   "outputs": [],
   "source": [
    "# Evaluate the model\n",
    "accuracy = accuracy_score(y_test, y_pred)\n",
    "report = classification_report(y_test, y_pred)\n",
    "\n",
    "print(f\"Accuracy: {accuracy}\")\n",
    "print(\"Classification Report:\\n\", report)"
   ]
  },
  {
   "cell_type": "code",
   "execution_count": null,
   "id": "463cc8f8-86a2-495d-be8c-bc79b21aff94",
   "metadata": {},
   "outputs": [],
   "source": [
    "month_data = month_year(month_value, year_value)\n",
    "prediction = clf.predict(month_data)\n",
    "            \n",
    "tolerance = 1e-6  # You can adjust this based on your specific case\n",
    "            \n",
    "if prediction is not None and np.any(np.abs(prediction) > tolerance):\n",
    "    prediction_result = \"open\"\n",
    "else:\n",
    "    prediction_result = \"close\""
   ]
  },
  {
   "cell_type": "code",
   "execution_count": null,
   "id": "d6b0e657-b20c-4150-8057-b3610e564c81",
   "metadata": {},
   "outputs": [],
   "source": [
    "class PredictionApp:\n",
    "    def __init__(self, master):\n",
    "        self.master = master\n",
    "        self.master.title(\"Prediction App\")\n",
    "\n",
    "        # Create and set up widgets\n",
    "        self.label_month = ttk.Label(master, text=\"Month:\")\n",
    "        self.entry_month = ttk.Entry(master)\n",
    "        self.label_year = ttk.Label(master, text=\"Year:\")\n",
    "        self.entry_year = ttk.Entry(master)\n",
    "        self.predict_button = ttk.Button(master, text=\"Predict\", command=self.make_prediction)\n",
    "\n",
    "        # Layout\n",
    "        self.label_month.grid(row=0, column=0, padx=10, pady=10)\n",
    "        self.entry_month.grid(row=0, column=1, padx=10, pady=10)\n",
    "        self.label_year.grid(row=1, column=0, padx=10, pady=10)\n",
    "        self.entry_year.grid(row=1, column=1, padx=10, pady=10)\n",
    "        self.predict_button.grid(row=2, column=0, columnspan=2, pady=10)\n",
    "\n",
    "    def make_prediction(self):\n",
    "        try:\n",
    "            month_value = int(self.entry_month.get())\n",
    "            year_value = int(self.entry_year.get())\n",
    "        except ValueError:\n",
    "            messagebox.showerror(\"Error\", \"Please enter valid numeric values for Month and Year.\")\n",
    "            return\n",
    "\n",
    "        month_data = month_year(month_value, year_value)\n",
    "\n",
    "        try:\n",
    "            prediction = clf.predict(month_data)\n",
    "            \n",
    "            tolerance = 1e-6  # You can adjust this based on your specific case\n",
    "            \n",
    "            if prediction is not None and np.any(np.abs(prediction) > tolerance):\n",
    "                prediction_result = \"open\"\n",
    "            else:\n",
    "                prediction_result = \"close\"\n",
    "            messagebox.showinfo(\"Prediction\", f\"The spillway will {prediction_result}\")\n",
    "        except Exception as e:\n",
    "            messagebox.showerror(\"Error\", f\"An error occurre {str(e)}\")\n",
    "\n",
    "if __name__ == \"__main__\":\n",
    "    # Create and train your model (Assuming data is defined)\n",
    "    X = data[['Day', 'Month', 'Year']]\n",
    "    y = data['Cluster']\n",
    "    X_train, _, y_train, _ = train_test_split(X, y, test_size=0.2)\n",
    "    clf = RandomForestClassifier(n_estimators=100, random_state=42)\n",
    "    clf.fit(X_train, y_train)\n",
    "\n",
    "    # Create the main application window\n",
    "    root = tk.Tk()\n",
    "    app = PredictionApp(root)\n",
    "    root.mainloop()\n"
   ]
  }
 ],
 "metadata": {
  "kernelspec": {
   "display_name": "",
   "name": ""
  },
  "language_info": {
   "name": ""
  }
 },
 "nbformat": 4,
 "nbformat_minor": 5
}
